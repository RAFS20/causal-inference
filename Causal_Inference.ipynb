{
  "nbformat": 4,
  "nbformat_minor": 0,
  "metadata": {
    "colab": {
      "provenance": [],
      "authorship_tag": "ABX9TyN1wp1RnHCdnKI3BJYFNCJ/",
      "include_colab_link": true
    },
    "kernelspec": {
      "name": "python3",
      "display_name": "Python 3"
    },
    "language_info": {
      "name": "python"
    }
  },
  "cells": [
    {
      "cell_type": "markdown",
      "metadata": {
        "id": "view-in-github",
        "colab_type": "text"
      },
      "source": [
        "<a href=\"https://colab.research.google.com/github/RAFS20/causal-inference/blob/main/Causal_Inference.ipynb\" target=\"_parent\"><img src=\"https://colab.research.google.com/assets/colab-badge.svg\" alt=\"Open In Colab\"/></a>"
      ]
    },
    {
      "cell_type": "markdown",
      "source": [
        "Cuaderno de: Ricardo Alonzo Fernández Salguero"
      ],
      "metadata": {
        "id": "4HYpWx8vOkve"
      }
    },
    {
      "cell_type": "markdown",
      "source": [
        "\"Statistics and Causal Inference\" por Paul W. Holland, profundiza en la diferencia entre inferencia asociativa e inferencia causal y presenta un modelo detallado para la inferencia causal basado en el trabajo de Rubin.\n",
        "\n",
        "La inferencia causal a menudo se contrasta con la inferencia asociativa. Mientras que la inferencia asociativa se centra en descubrir cómo los valores de una variable están asociados con los valores de otra, la inferencia causal busca medir el efecto de las causas.\n",
        "\n",
        "### 1. Modelos de Inferencia\n",
        "\n",
        "La **Inferencia Asociativa** se describe con variables $A$ y $Y$, donde $A$ es un atributo de las unidades en un universo $U$ y $Y$ es la variable de respuesta. La relación entre estas dos variables se modela utilizando probabilidades y expectativas calculadas sobre el universo $U$.\n",
        "\n",
        "La relación puede ser expresada como:\n",
        "$$\n",
        "\\text{Pr}(Y = y \\,|\\, A = a) = \\frac{\\text{Pr}(Y = y \\,\\&\\, A = a)}{\\text{Pr}(A = a)}\n",
        "$$\n",
        "\n",
        "Donde:\n",
        "- $\\text{Pr}(Y = y \\,|\\, A = a)$ representa la probabilidad condicional de $Y$ dado $A$.\n",
        "- $\\text{E}(Y \\,|\\, A=a)$ representa la expectativa de $Y$ dado $A=a$, también conocido como la regresión de $Y$ en $A$.\n",
        "\n",
        "En la **Inferencia Causal** basada en el modelo de Rubin, introducimos la idea de dos variables potenciales de respuesta $Y_t$ y $Y_c$, donde $t$ indica el tratamiento y $c$ el control. La diferencia $Y_t(u) - Y_c(u)$ representa el efecto causal del tratamiento sobre la unidad $u$.\n",
        "\n",
        "La **Diferencia Causal** se define como:\n",
        "$$\n",
        "\\tau = Y_t(u) - Y_c(u)\n",
        "$$\n",
        "\n",
        "Sin embargo, enfrentamos el **Problema Fundamental de la Inferencia Causal**: es imposible observar ambos $Y_t(u)$ y $Y_c(u)$ en la misma unidad. Por lo tanto, necesitamos métodos para estimar el efecto causal promedio a través de una población.\n",
        "\n",
        "### 2. Estimación del Efecto Causal\n",
        "\n",
        "La **Solución Estadística** al problema fundamental implica el uso de la expectativa sobre el universo de unidades $U$ para definir el efecto causal promedio ($\\tau$) como:\n",
        "$$\n",
        "\\tau = \\text{E}(Y_t - Y_c)\n",
        "$$\n",
        "\n",
        "La **Independencia** es crucial para la inferencia causal en experimentos aleatorizados. Si las unidades son asignadas al azar a tratamientos, podemos asumir que:\n",
        "$$\n",
        "\\text{E}(Y_t) = \\text{E}(Y_t \\,|\\, S = t) \\quad \\text{y} \\quad \\text{E}(Y_c) = \\text{E}(Y_c \\,|\\, S = c)\n",
        "$$\n",
        "\n",
        "Esto permite estimar el efecto causal promedio ($\\tau$) como la diferencia entre las medias observadas de las respuestas para cada grupo de tratamiento.\n",
        "\n",
        "### 3. Aplicación a Estudios No Aleatorizados\n",
        "\n",
        "En situaciones donde no es posible realizar un experimento aleatorizado, se pueden emplear técnicas de **ignorabilidad fuerte** para ajustar por las variables de confusión y estimar el efecto causal mediante el modelado de la asignación del tratamiento como si fuera aleatoria, dado un conjunto de covariables pre-tratamiento.\n",
        "\n",
        "La inferencia causal es una parte fundamental de la estadística que permite ir más allá de las asociaciones para identificar relaciones de causa y efecto. El modelo de Rubin proporciona un marco teórico para abordar estos problemas, aunque la aplicación práctica requiere cuidadosa consideración de los supuestos y la estructura de los datos."
      ],
      "metadata": {
        "id": "zMTZLwLHOR8i"
      }
    },
    {
      "cell_type": "code",
      "execution_count": 1,
      "metadata": {
        "colab": {
          "base_uri": "https://localhost:8080/"
        },
        "id": "Uqx2zyRINdn1",
        "outputId": "d5973586-7f04-4463-f265-0895a7fd9811"
      },
      "outputs": [
        {
          "output_type": "stream",
          "name": "stdout",
          "text": [
            "Verdadero efecto del tratamiento: 5\n",
            "Efecto causal promedio estimado: 5.0708362372491464\n"
          ]
        }
      ],
      "source": [
        "import numpy as np\n",
        "\n",
        "# Parámetros de simulación\n",
        "n_units = 1000  # Número de unidades (ej., personas) en cada grupo\n",
        "true_effect = 5  # Efecto verdadero del tratamiento\n",
        "np.random.seed(42)  # Semilla para reproducibilidad\n",
        "\n",
        "# Generar datos simulados\n",
        "control_group = np.random.normal(50, 10, n_units)  # Grupo control con media 50 y desviación estándar 10\n",
        "treatment_group = control_group + true_effect + np.random.normal(0, 1, n_units)  # Grupo tratamiento con efecto causal\n",
        "\n",
        "# Cálculo del efecto causal promedio\n",
        "estimated_effect = treatment_group.mean() - control_group.mean()\n",
        "\n",
        "print(f\"Verdadero efecto del tratamiento: {true_effect}\")\n",
        "print(f\"Efecto causal promedio estimado: {estimated_effect}\")"
      ]
    },
    {
      "cell_type": "code",
      "source": [
        "import numpy as np\n",
        "from scipy import stats\n",
        "\n",
        "# 1. Generar datos simulados\n",
        "np.random.seed(42)  # Para reproducibilidad\n",
        "\n",
        "# Tamaño de la muestra\n",
        "n = 1000\n",
        "\n",
        "# Variable de tratamiento (binaria: 0 o 1)\n",
        "treatment = np.random.randint(2, size=n)\n",
        "\n",
        "# Covariables (variables que podrían afectar tanto al tratamiento como a la respuesta)\n",
        "covariate_1 = np.random.normal(0, 1, n)\n",
        "covariate_2 = np.random.normal(0, 1, n)\n",
        "\n",
        "# Efecto causal del tratamiento\n",
        "effect = 2.0\n",
        "\n",
        "# Variable de respuesta potencial para el tratamiento\n",
        "response_treatment = 3 + effect * treatment + 0.5 * covariate_1 + np.random.normal(0, 1, n)\n",
        "\n",
        "# Variable de respuesta potencial para el control\n",
        "response_control = 3 + 0.5 * covariate_1 + np.random.normal(0, 1, n)\n",
        "\n",
        "# 2. Calcular el efecto causal promedio\n",
        "tau = np.mean(response_treatment - response_control)\n",
        "\n",
        "# 3. Prueba de hipótesis para la significancia del efecto causal\n",
        "# Usando t-test de muestras independientes\n",
        "t_stat, p_value = stats.ttest_ind(response_treatment, response_control)\n",
        "\n",
        "print(\"Efecto causal promedio estimado (tau):\", tau)\n",
        "print(\"Estadística t:\", t_stat)\n",
        "print(\"Valor p:\", p_value)"
      ],
      "metadata": {
        "colab": {
          "base_uri": "https://localhost:8080/"
        },
        "id": "mU8L_GhPOClz",
        "outputId": "1c72a1e8-a120-49c6-dd76-670238d5401b"
      },
      "execution_count": 2,
      "outputs": [
        {
          "output_type": "stream",
          "name": "stdout",
          "text": [
            "Efecto causal promedio estimado (tau): 1.0698260383475064\n",
            "Estadística t: 17.995378322480853\n",
            "Valor p: 3.218348525231323e-67\n"
          ]
        }
      ]
    },
    {
      "cell_type": "markdown",
      "source": [
        "El resultado obtenido muestra un efecto causal promedio estimado (τ) de aproximadamente 1.07, lo que indica que, en promedio, el tratamiento tiene un efecto positivo en la variable de respuesta en comparación con el grupo de control. La estadística t es significativamente alta, con un valor de aproximadamente 18, lo que sugiere que existe una diferencia significativa entre los grupos de tratamiento y control en términos de respuesta. Además, el valor p es extremadamente bajo (aproximadamente 3.22e-67), lo que indica una fuerte evidencia en contra de la hipótesis nula de que no hay diferencia entre los grupos. En resumen, estos resultados sugieren que el tratamiento tiene un efecto causal significativo en la variable de respuesta."
      ],
      "metadata": {
        "id": "X_st0MpJOO4R"
      }
    }
  ]
}